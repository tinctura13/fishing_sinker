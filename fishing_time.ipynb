import numpy as np
import matplotlib.pyplot as plt

# Fishing sinkers weight in gramms

weights = [2, 5, 8, 12, 15, 20, 25, 30, 35]

def count_diams(data, p):
    volumes = []
    diams = []
    
    # count volumes of the spheres depending on their weights
    
    for weight in weights:
        volume = weight / p
        volumes.append(volume)
    
    # count radii by the volumes
    
    for volume in volumes:
        radius = (((3 * volume) / (4 * np.pi)) ** (1./3))
        diams.append(round((radius * 2), 2))
    
    # return dictionary where key is the weight and value is the diameter for the actual sphere
    
    return dict(zip(weights, diams))
