import numpy as np
import matplotlib.pyplot as plt

# Fishing sinkers weight in gramms

weights = [2, 5, 8, 12, 15, 20, 25, 30, 35]

def count_diams(weights, p):
    """
    Function used to calculate the diameter of the sphere for fishing sinker
    depending on it weight.
    
    Parameters
    __________
    weights : list
        Python list containing the actual weights of the fishing sinkers.
    p : int
        Actual density of the material for sinkers.

    Returns
    _______
    dict.key : int
        Actual weight of the sinker.
    dict.value : int
        Actual diameter of the sinker sphere/.
    """

    volumes = []
    diams = []
    
    # count volumes of the spheres depending on their weights
    
    for weight in weights:
        volume = weight / p
        volumes.append(volume)
    
    # count radii by the volumes
    
    for volume in volumes:
        radius = (((3 * volume) / (4 * np.pi)) ** (1./3))
        diams.append(round((radius * 2), 2))
    
    # return dictionary where key is the weight and value is the diameter for the actual sphere
    # weight is in gramms and diameter is in centimeters
    
    return dict(zip(weights, diams))

# commonly fishing sinkers made of lead(pb) and it density is 113400 kg/m^3

count_diams(weights, 11.34)

# we can visualize actual sizes with matplotlib

x = list(count_diams(weights, 11.34).values())
y = [0]*len(x)
s = [70*n for n in range(len(x))]
plt.scatter(x,y,s=s)
plt.show()
