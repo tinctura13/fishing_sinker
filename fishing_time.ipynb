{
 "cells": [
  {
   "cell_type": "code",
   "execution_count": 8,
   "id": "protective-fraud",
   "metadata": {},
   "outputs": [
    {
     "data": {
      "text/plain": [
       "{2: 0.7,\n",
       " 5: 0.94,\n",
       " 8: 1.1,\n",
       " 12: 1.26,\n",
       " 15: 1.36,\n",
       " 20: 1.5,\n",
       " 25: 1.61,\n",
       " 30: 1.72,\n",
       " 35: 1.81}"
      ]
     },
     "execution_count": 8,
     "metadata": {},
     "output_type": "execute_result"
    }
   ],
   "source": [
    "import math\n",
    "import matplotlib.pyplot as plt\n",
    "\n",
    "# Fishing sinkers weight in gramms\n",
    "\n",
    "weights = [2, 5, 8, 12, 15, 20, 25, 30, 35]\n",
    "\n",
    "def count_diams(weights, p):\n",
    "    \"\"\"\n",
    "    Function used to calculate the diameter of the sphere for fishing sinker\n",
    "    depending on it weight.\n",
    "    \n",
    "    Parameters\n",
    "    __________\n",
    "    weights : list\n",
    "        Python list containing the actual weights of the fishing sinkers.\n",
    "    p : int\n",
    "        Actual density of the material for sinkers.\n",
    "\n",
    "    Returns\n",
    "    _______\n",
    "    dict.key : int\n",
    "        Actual weight of the sinker.\n",
    "    dict.value : int\n",
    "        Actual diameter of the sinker sphere/.\n",
    "    \"\"\"\n",
    "\n",
    "    volumes = []\n",
    "    diams = []\n",
    "    \n",
    "    # count volumes of the spheres depending on their weights\n",
    "    \n",
    "    for weight in weights:\n",
    "        volume = weight / p\n",
    "        volumes.append(volume)\n",
    "    \n",
    "    # count radii by the volumes\n",
    "    \n",
    "    for volume in volumes:\n",
    "        radius = (((3 * volume) / (4 * math.pi)) ** (1./3))\n",
    "        diams.append(round((radius * 2), 2))\n",
    "    \n",
    "    # return dictionary where key is the weight and value is the diameter for the actual sphere\n",
    "    # weight is in gramms and diameter is in centimeters\n",
    "    \n",
    "    return dict(zip(weights, diams))\n",
    "\n",
    "# commonly fishing sinkers made of lead(pb) and it density is 113400 kg/m^3\n",
    "\n",
    "count_diams(weights, 11.34)"
   ]
  },
  {
   "cell_type": "code",
   "execution_count": 20,
   "id": "obvious-fever",
   "metadata": {},
   "outputs": [
    {
     "data": {
      "image/png": "[encoded data removed]",
      "text/plain": [
       "<Figure size 432x288 with 1 Axes>"
      ]
     },
     "metadata": {
      "needs_background": "light"
     },
     "output_type": "display_data"
    }
   ],
   "source": [
    "# We can visualize aprroximate size of the sinker with matplotlib\n",
    "\n",
    "x = list(count_diams(weights, 11.34).values())\n",
    "y = [0] * len(x)\n",
    "s = [70 * (n + 1) for n in range(len(x))]\n",
    "plt.scatter(x,y,s=s)\n",
    "plt.xticks(x, \"\")\n",
    "plt.yticks(y, \"\")\n",
    "plt.show()"
   ]
  }
 ],
 "metadata": {
  "kernelspec": {
   "display_name": "Python 3",
   "language": "python",
   "name": "python3"
  },
  "language_info": {
   "codemirror_mode": {
    "name": "ipython",
    "version": 3
   },
   "file_extension": ".py",
   "mimetype": "text/x-python",
   "name": "python",
   "nbconvert_exporter": "python",
   "pygments_lexer": "ipython3",
   "version": "3.7.6"
  }
 },
 "nbformat": 4,
 "nbformat_minor": 5
}
